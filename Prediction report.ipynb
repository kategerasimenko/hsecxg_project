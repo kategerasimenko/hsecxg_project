{
 "cells": [
  {
   "cell_type": "code",
   "execution_count": 31,
   "metadata": {
    "collapsed": false
   },
   "outputs": [],
   "source": [
    "import pandas as pd\n",
    "import numpy as np\n",
    "from sklearn.metrics import f1_score,classification_report"
   ]
  },
  {
   "cell_type": "code",
   "execution_count": 24,
   "metadata": {
    "collapsed": false
   },
   "outputs": [],
   "source": [
    "results = pd.read_csv('predictions.csv',index_col=0)\n",
    "results.columns = ['logit','tree','target']\n",
    "thresholds = np.linspace(0.5,1,51)"
   ]
  },
  {
   "cell_type": "code",
   "execution_count": 25,
   "metadata": {
    "collapsed": false
   },
   "outputs": [
    {
     "data": {
      "text/html": [
       "<div>\n",
       "<table border=\"1\" class=\"dataframe\">\n",
       "  <thead>\n",
       "    <tr style=\"text-align: right;\">\n",
       "      <th></th>\n",
       "      <th>logit</th>\n",
       "      <th>tree</th>\n",
       "      <th>target</th>\n",
       "    </tr>\n",
       "  </thead>\n",
       "  <tbody>\n",
       "    <tr>\n",
       "      <th>1</th>\n",
       "      <td>0.988454</td>\n",
       "      <td>0.983677</td>\n",
       "      <td>1</td>\n",
       "    </tr>\n",
       "    <tr>\n",
       "      <th>2</th>\n",
       "      <td>0.990696</td>\n",
       "      <td>0.983677</td>\n",
       "      <td>1</td>\n",
       "    </tr>\n",
       "    <tr>\n",
       "      <th>3</th>\n",
       "      <td>0.851686</td>\n",
       "      <td>0.866828</td>\n",
       "      <td>1</td>\n",
       "    </tr>\n",
       "    <tr>\n",
       "      <th>4</th>\n",
       "      <td>0.898063</td>\n",
       "      <td>0.866828</td>\n",
       "      <td>1</td>\n",
       "    </tr>\n",
       "    <tr>\n",
       "      <th>5</th>\n",
       "      <td>0.984798</td>\n",
       "      <td>0.983677</td>\n",
       "      <td>1</td>\n",
       "    </tr>\n",
       "  </tbody>\n",
       "</table>\n",
       "</div>"
      ],
      "text/plain": [
       "      logit      tree  target\n",
       "1  0.988454  0.983677       1\n",
       "2  0.990696  0.983677       1\n",
       "3  0.851686  0.866828       1\n",
       "4  0.898063  0.866828       1\n",
       "5  0.984798  0.983677       1"
      ]
     },
     "execution_count": 25,
     "metadata": {},
     "output_type": "execute_result"
    }
   ],
   "source": [
    "results.head()"
   ]
  },
  {
   "cell_type": "code",
   "execution_count": 44,
   "metadata": {
    "collapsed": false
   },
   "outputs": [],
   "source": [
    "def find_threshold(preds):\n",
    "    best_thr = (0,0,None)\n",
    "    for i in thresholds:\n",
    "        pred = [1 if x >= i else 0 for x in preds]\n",
    "        score = f1_score(results.target,pred,pos_label=0)\n",
    "        best_thr = max(best_thr,(i,score,pred),key=lambda x: x[1])\n",
    "    return best_thr"
   ]
  },
  {
   "cell_type": "code",
   "execution_count": 45,
   "metadata": {
    "collapsed": false,
    "scrolled": true
   },
   "outputs": [
    {
     "name": "stdout",
     "output_type": "stream",
     "text": [
      "0.76\n",
      "             precision    recall  f1-score   support\n",
      "\n",
      "          0       0.48      0.45      0.47       615\n",
      "          1       0.93      0.94      0.94      4966\n",
      "\n",
      "avg / total       0.88      0.89      0.88      5581\n",
      "\n"
     ]
    }
   ],
   "source": [
    "t = find_threshold(results.logit)\n",
    "print(t[0])\n",
    "print(classification_report(results.target,t[2]))"
   ]
  },
  {
   "cell_type": "code",
   "execution_count": 46,
   "metadata": {
    "collapsed": false
   },
   "outputs": [
    {
     "name": "stdout",
     "output_type": "stream",
     "text": [
      "0.73\n",
      "             precision    recall  f1-score   support\n",
      "\n",
      "          0       0.52      0.42      0.47       615\n",
      "          1       0.93      0.95      0.94      4966\n",
      "\n",
      "avg / total       0.89      0.89      0.89      5581\n",
      "\n"
     ]
    }
   ],
   "source": [
    "t = find_threshold(results.tree)\n",
    "print(t[0])\n",
    "print(classification_report(results.target,t[2]))"
   ]
  },
  {
   "cell_type": "code",
   "execution_count": 59,
   "metadata": {
    "collapsed": false
   },
   "outputs": [
    {
     "name": "stdout",
     "output_type": "stream",
     "text": [
      "             precision    recall  f1-score   support\n",
      "\n",
      "          0       0.14      0.13      0.14       615\n",
      "          1       0.89      0.90      0.90      4966\n",
      "\n",
      "avg / total       0.81      0.82      0.81      5581\n",
      "\n"
     ]
    }
   ],
   "source": [
    "# подбрасывание монетки\n",
    "print(classification_report(results.target,np.random.binomial(1, 0.9, len(results))))"
   ]
  }
 ],
 "metadata": {
  "anaconda-cloud": {},
  "kernelspec": {
   "display_name": "Python [default]",
   "language": "python",
   "name": "python3"
  },
  "language_info": {
   "codemirror_mode": {
    "name": "ipython",
    "version": 3
   },
   "file_extension": ".py",
   "mimetype": "text/x-python",
   "name": "python",
   "nbconvert_exporter": "python",
   "pygments_lexer": "ipython3",
   "version": "3.5.2"
  }
 },
 "nbformat": 4,
 "nbformat_minor": 1
}
