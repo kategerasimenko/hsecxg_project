{
 "cells": [
  {
   "cell_type": "code",
   "execution_count": 38,
   "metadata": {
    "collapsed": false
   },
   "outputs": [],
   "source": [
    "from gensim.models import Word2Vec\n",
    "from sklearn.cluster import KMeans\n",
    "import pandas as pd\n",
    "import numpy as np"
   ]
  },
  {
   "cell_type": "code",
   "execution_count": 2,
   "metadata": {
    "collapsed": false
   },
   "outputs": [
    {
     "data": {
      "text/plain": [
       "0.76640122309953518"
      ]
     },
     "execution_count": 2,
     "metadata": {},
     "output_type": "execute_result"
    }
   ],
   "source": [
    "model = Word2Vec.load_word2vec_format(\"GoogleNews-vectors-negative300.bin.gz\",binary=True)\n",
    "model.similarity('woman', 'man')"
   ]
  },
  {
   "cell_type": "code",
   "execution_count": 100,
   "metadata": {
    "collapsed": false,
    "scrolled": true
   },
   "outputs": [
    {
     "data": {
      "text/html": [
       "<div>\n",
       "<table border=\"1\" class=\"dataframe\">\n",
       "  <thead>\n",
       "    <tr style=\"text-align: right;\">\n",
       "      <th></th>\n",
       "      <th>﻿sent</th>\n",
       "      <th>tagged sent</th>\n",
       "      <th>construction</th>\n",
       "      <th>matrix</th>\n",
       "      <th>matrix_lemma</th>\n",
       "      <th>embedded</th>\n",
       "      <th>embedded_lemma</th>\n",
       "      <th>control?</th>\n",
       "      <th>answer</th>\n",
       "    </tr>\n",
       "  </thead>\n",
       "  <tbody>\n",
       "    <tr>\n",
       "      <th>0</th>\n",
       "      <td>He believes that older people have had a raw d...</td>\n",
       "      <td>[\"('He', 'PNP')\", \"('believes', 'VVZ')\", \"('th...</td>\n",
       "      <td>hopes to show</td>\n",
       "      <td>hopes</td>\n",
       "      <td>hop</td>\n",
       "      <td>show</td>\n",
       "      <td>show</td>\n",
       "      <td>0</td>\n",
       "      <td>inf</td>\n",
       "    </tr>\n",
       "    <tr>\n",
       "      <th>1</th>\n",
       "      <td>After a period of normal grieving , my mother ...</td>\n",
       "      <td>[\"('After', 'CJS-PRP')\", \"('a', 'AT0')\", \"('pe...</td>\n",
       "      <td>wanted to travel</td>\n",
       "      <td>wanted</td>\n",
       "      <td>want</td>\n",
       "      <td>travel</td>\n",
       "      <td>travel</td>\n",
       "      <td>1</td>\n",
       "      <td>inf</td>\n",
       "    </tr>\n",
       "    <tr>\n",
       "      <th>2</th>\n",
       "      <td>Such a decision , if carried through , would h...</td>\n",
       "      <td>[\"('Such', 'DT0')\", \"('a', 'AT0')\", \"('decisio...</td>\n",
       "      <td>made to feel</td>\n",
       "      <td>made</td>\n",
       "      <td>make</td>\n",
       "      <td>feel</td>\n",
       "      <td>feel</td>\n",
       "      <td>1</td>\n",
       "      <td>inf</td>\n",
       "    </tr>\n",
       "    <tr>\n",
       "      <th>3</th>\n",
       "      <td>We clean their homes , fetch their shopping , ...</td>\n",
       "      <td>[\"('We', 'PNP')\", \"('clean', 'VVB')\", \"('their...</td>\n",
       "      <td>wish to go</td>\n",
       "      <td>wish</td>\n",
       "      <td>wish</td>\n",
       "      <td>go</td>\n",
       "      <td>go</td>\n",
       "      <td>1</td>\n",
       "      <td>inf</td>\n",
       "    </tr>\n",
       "    <tr>\n",
       "      <th>4</th>\n",
       "      <td>The reason we do so is entirely based on our p...</td>\n",
       "      <td>[\"('The', 'AT0')\", \"('reason', 'NN1')\", \"('we'...</td>\n",
       "      <td>allowed to do</td>\n",
       "      <td>allowed</td>\n",
       "      <td>allow</td>\n",
       "      <td>do</td>\n",
       "      <td>do</td>\n",
       "      <td>1</td>\n",
       "      <td>inf</td>\n",
       "    </tr>\n",
       "  </tbody>\n",
       "</table>\n",
       "</div>"
      ],
      "text/plain": [
       "                                               ﻿sent  \\\n",
       "0  He believes that older people have had a raw d...   \n",
       "1  After a period of normal grieving , my mother ...   \n",
       "2  Such a decision , if carried through , would h...   \n",
       "3  We clean their homes , fetch their shopping , ...   \n",
       "4  The reason we do so is entirely based on our p...   \n",
       "\n",
       "                                         tagged sent      construction  \\\n",
       "0  [\"('He', 'PNP')\", \"('believes', 'VVZ')\", \"('th...     hopes to show   \n",
       "1  [\"('After', 'CJS-PRP')\", \"('a', 'AT0')\", \"('pe...  wanted to travel   \n",
       "2  [\"('Such', 'DT0')\", \"('a', 'AT0')\", \"('decisio...      made to feel   \n",
       "3  [\"('We', 'PNP')\", \"('clean', 'VVB')\", \"('their...        wish to go   \n",
       "4  [\"('The', 'AT0')\", \"('reason', 'NN1')\", \"('we'...     allowed to do   \n",
       "\n",
       "    matrix matrix_lemma embedded embedded_lemma  control? answer  \n",
       "0    hopes          hop     show           show         0    inf  \n",
       "1   wanted         want   travel         travel         1    inf  \n",
       "2     made         make     feel           feel         1    inf  \n",
       "3     wish         wish       go             go         1    inf  \n",
       "4  allowed        allow       do             do         1    inf  "
      ]
     },
     "execution_count": 100,
     "metadata": {},
     "output_type": "execute_result"
    }
   ],
   "source": [
    "data = pd.read_csv('data.csv',sep=';')\n",
    "data.head()"
   ]
  },
  {
   "cell_type": "code",
   "execution_count": 101,
   "metadata": {
    "collapsed": false
   },
   "outputs": [],
   "source": [
    "def create_matrix(verbs,model):\n",
    "    embs = []\n",
    "    labels = []\n",
    "    for verb in set(verbs):\n",
    "        if verb.lower() in model:\n",
    "            embs.append(model[verb.lower()])\n",
    "        else:\n",
    "            print(verb)\n",
    "            embs.append([0]*300)\n",
    "        labels.append(verb)\n",
    "    return np.array(embs),labels"
   ]
  },
  {
   "cell_type": "code",
   "execution_count": 106,
   "metadata": {
    "collapsed": false
   },
   "outputs": [],
   "source": [
    "def predict_labels(verbs,model):\n",
    "    embs,labels = create_matrix(verbs,model)\n",
    "    clust10 = KMeans(n_clusters=10,random_state=42)\n",
    "    pred10 = clust10.fit_predict(embs)\n",
    "    clust30 = KMeans(n_clusters=20,random_state=42)\n",
    "    pred30 = clust20.fit_predict(embs)\n",
    "    return labels,pred10,pred30"
   ]
  },
  {
   "cell_type": "code",
   "execution_count": 107,
   "metadata": {
    "collapsed": false
   },
   "outputs": [
    {
     "name": "stdout",
     "output_type": "stream",
     "text": [
      "practise\n",
      "intreating\n",
      "standardised\n",
      "organised\n",
      "forgettin'\n",
      "co-ordinate\n",
      "tryin'\n",
      "under-equipped\n",
      "Quilp\n",
      "re-imported\n",
      "endeavours\n",
      "kep'\n",
      "analysed\n",
      "Chuzzlewit\n",
      "Dorrit\n",
      "goin'\n",
      "mobilised\n",
      "rumoured\n",
      "endeavouring\n",
      "practised\n",
      "endeavour\n",
      "endeavoured\n"
     ]
    }
   ],
   "source": [
    "matrix_labels,matrix_pred10, matrix_pred20 = predict_labels(data.matrix,model)\n",
    "corr10 = {x:y for x,y in zip(matrix_labels,matrix_pred10)}\n",
    "corr20 = {x:y for x,y in zip(matrix_labels,matrix_pred20)}\n",
    "data['matrix_clust10_class'] = [corr10[x] for x in data.matrix]\n",
    "data['matrix_clust20_class'] = [corr20[x] for x in data.matrix]"
   ]
  },
  {
   "cell_type": "code",
   "execution_count": 113,
   "metadata": {
    "collapsed": false
   },
   "outputs": [
    {
     "name": "stdout",
     "output_type": "stream",
     "text": [
      "favour\n",
      "practise\n",
      "re-sign\n",
      "nacab\n",
      "forgettin'\n",
      "co-operate\n",
      ";\n",
      "railcoach\n",
      "minimise\n",
      "licence\n",
      "'ave\n",
      "over-provide\n",
      "re-assessing\n",
      "encourage/reinforce\n",
      "legering\n",
      "fulfil\n",
      "criticise\n",
      "barlaston\n",
      "’\n",
      "specialise\n",
      ".\n",
      "galvanise\n",
      "subsidise\n",
      "recognise\n",
      "modernise\n",
      "organise\n",
      "‘\n",
      "favourably\n",
      "capitalise\n",
      "emphasise\n",
      "re-enter\n",
      "materialise\n",
      "utilise\n",
      "again'\n",
      "co-opt\n",
      ",\n",
      "jeopardise\n",
      "publicise\n",
      "realise\n"
     ]
    }
   ],
   "source": [
    "embedded_labels,embedded_pred10, embedded_pred20 = predict_labels(data.embedded_lemma,model)\n",
    "corr10 = {x:y for x,y in zip(embedded_labels,embedded_pred10)}\n",
    "corr20 = {x:y for x,y in zip(embedded_labels,embedded_pred20)}\n",
    "data['embedded_clust10_class'] = [corr10[x] for x in data.embedded_lemma]\n",
    "data['embedded_clust20_class'] = [corr20[x] for x in data.embedded_lemma]"
   ]
  },
  {
   "cell_type": "code",
   "execution_count": 109,
   "metadata": {
    "collapsed": false
   },
   "outputs": [
    {
     "data": {
      "text/html": [
       "<div>\n",
       "<table border=\"1\" class=\"dataframe\">\n",
       "  <thead>\n",
       "    <tr style=\"text-align: right;\">\n",
       "      <th></th>\n",
       "      <th>﻿sent</th>\n",
       "      <th>tagged sent</th>\n",
       "      <th>construction</th>\n",
       "      <th>matrix</th>\n",
       "      <th>matrix_lemma</th>\n",
       "      <th>embedded</th>\n",
       "      <th>embedded_lemma</th>\n",
       "      <th>control?</th>\n",
       "      <th>answer</th>\n",
       "      <th>matrix_clust10_class</th>\n",
       "      <th>matrix_clust20_class</th>\n",
       "      <th>embedded_clust10_class</th>\n",
       "      <th>embedded_clust20_class</th>\n",
       "    </tr>\n",
       "  </thead>\n",
       "  <tbody>\n",
       "    <tr>\n",
       "      <th>0</th>\n",
       "      <td>He believes that older people have had a raw d...</td>\n",
       "      <td>[\"('He', 'PNP')\", \"('believes', 'VVZ')\", \"('th...</td>\n",
       "      <td>hopes to show</td>\n",
       "      <td>hopes</td>\n",
       "      <td>hop</td>\n",
       "      <td>show</td>\n",
       "      <td>show</td>\n",
       "      <td>0</td>\n",
       "      <td>inf</td>\n",
       "      <td>2</td>\n",
       "      <td>17</td>\n",
       "      <td>2</td>\n",
       "      <td>13</td>\n",
       "    </tr>\n",
       "    <tr>\n",
       "      <th>1</th>\n",
       "      <td>After a period of normal grieving , my mother ...</td>\n",
       "      <td>[\"('After', 'CJS-PRP')\", \"('a', 'AT0')\", \"('pe...</td>\n",
       "      <td>wanted to travel</td>\n",
       "      <td>wanted</td>\n",
       "      <td>want</td>\n",
       "      <td>travel</td>\n",
       "      <td>travel</td>\n",
       "      <td>1</td>\n",
       "      <td>inf</td>\n",
       "      <td>4</td>\n",
       "      <td>2</td>\n",
       "      <td>2</td>\n",
       "      <td>19</td>\n",
       "    </tr>\n",
       "    <tr>\n",
       "      <th>2</th>\n",
       "      <td>Such a decision , if carried through , would h...</td>\n",
       "      <td>[\"('Such', 'DT0')\", \"('a', 'AT0')\", \"('decisio...</td>\n",
       "      <td>made to feel</td>\n",
       "      <td>made</td>\n",
       "      <td>make</td>\n",
       "      <td>feel</td>\n",
       "      <td>feel</td>\n",
       "      <td>1</td>\n",
       "      <td>inf</td>\n",
       "      <td>6</td>\n",
       "      <td>6</td>\n",
       "      <td>1</td>\n",
       "      <td>17</td>\n",
       "    </tr>\n",
       "    <tr>\n",
       "      <th>3</th>\n",
       "      <td>We clean their homes , fetch their shopping , ...</td>\n",
       "      <td>[\"('We', 'PNP')\", \"('clean', 'VVB')\", \"('their...</td>\n",
       "      <td>wish to go</td>\n",
       "      <td>wish</td>\n",
       "      <td>wish</td>\n",
       "      <td>go</td>\n",
       "      <td>go</td>\n",
       "      <td>1</td>\n",
       "      <td>inf</td>\n",
       "      <td>4</td>\n",
       "      <td>4</td>\n",
       "      <td>5</td>\n",
       "      <td>15</td>\n",
       "    </tr>\n",
       "    <tr>\n",
       "      <th>4</th>\n",
       "      <td>The reason we do so is entirely based on our p...</td>\n",
       "      <td>[\"('The', 'AT0')\", \"('reason', 'NN1')\", \"('we'...</td>\n",
       "      <td>allowed to do</td>\n",
       "      <td>allowed</td>\n",
       "      <td>allow</td>\n",
       "      <td>do</td>\n",
       "      <td>do</td>\n",
       "      <td>1</td>\n",
       "      <td>inf</td>\n",
       "      <td>4</td>\n",
       "      <td>2</td>\n",
       "      <td>1</td>\n",
       "      <td>11</td>\n",
       "    </tr>\n",
       "  </tbody>\n",
       "</table>\n",
       "</div>"
      ],
      "text/plain": [
       "                                               ﻿sent  \\\n",
       "0  He believes that older people have had a raw d...   \n",
       "1  After a period of normal grieving , my mother ...   \n",
       "2  Such a decision , if carried through , would h...   \n",
       "3  We clean their homes , fetch their shopping , ...   \n",
       "4  The reason we do so is entirely based on our p...   \n",
       "\n",
       "                                         tagged sent      construction  \\\n",
       "0  [\"('He', 'PNP')\", \"('believes', 'VVZ')\", \"('th...     hopes to show   \n",
       "1  [\"('After', 'CJS-PRP')\", \"('a', 'AT0')\", \"('pe...  wanted to travel   \n",
       "2  [\"('Such', 'DT0')\", \"('a', 'AT0')\", \"('decisio...      made to feel   \n",
       "3  [\"('We', 'PNP')\", \"('clean', 'VVB')\", \"('their...        wish to go   \n",
       "4  [\"('The', 'AT0')\", \"('reason', 'NN1')\", \"('we'...     allowed to do   \n",
       "\n",
       "    matrix matrix_lemma embedded embedded_lemma  control? answer  \\\n",
       "0    hopes          hop     show           show         0    inf   \n",
       "1   wanted         want   travel         travel         1    inf   \n",
       "2     made         make     feel           feel         1    inf   \n",
       "3     wish         wish       go             go         1    inf   \n",
       "4  allowed        allow       do             do         1    inf   \n",
       "\n",
       "   matrix_clust10_class  matrix_clust20_class  embedded_clust10_class  \\\n",
       "0                     2                    17                       2   \n",
       "1                     4                     2                       2   \n",
       "2                     6                     6                       1   \n",
       "3                     4                     4                       5   \n",
       "4                     4                     2                       1   \n",
       "\n",
       "   embedded_clust20_class  \n",
       "0                      13  \n",
       "1                      19  \n",
       "2                      17  \n",
       "3                      15  \n",
       "4                      11  "
      ]
     },
     "execution_count": 109,
     "metadata": {},
     "output_type": "execute_result"
    }
   ],
   "source": [
    "data.head()"
   ]
  },
  {
   "cell_type": "code",
   "execution_count": 114,
   "metadata": {
    "collapsed": true
   },
   "outputs": [],
   "source": [
    "data.to_csv('data_plus_clust.csv',sep=';')"
   ]
  },
  {
   "cell_type": "code",
   "execution_count": 92,
   "metadata": {
    "collapsed": true
   },
   "outputs": [],
   "source": [
    "# http://douglasduhaime.com/posts/clustering-semantic-vectors.html\n",
    "\n",
    "class autovivify_list(dict):\n",
    "  '''A pickleable version of collections.defaultdict'''\n",
    "  def __missing__(self, key):\n",
    "    '''Given a missing key, set initial value to an empty list'''\n",
    "    value = self[key] = []\n",
    "    return value\n",
    "\n",
    "  def __add__(self, x):\n",
    "    '''Override addition for numeric types when self is empty'''\n",
    "    if not self and isinstance(x, Number):\n",
    "      return x\n",
    "    raise ValueError\n",
    "\n",
    "  def __sub__(self, x):\n",
    "    '''Also provide subtraction method'''\n",
    "    if not self and isinstance(x, Number):\n",
    "      return -1 * x\n",
    "    raise ValueError\n",
    "\n",
    "def find_word_clusters(labels_array, cluster_labels):\n",
    "  '''Return the set of words in each cluster'''\n",
    "  cluster_to_words = autovivify_list()\n",
    "  for c, i in enumerate(cluster_labels):\n",
    "    cluster_to_words[i].append( labels_array[c] )\n",
    "  return cluster_to_words"
   ]
  },
  {
   "cell_type": "code",
   "execution_count": 116,
   "metadata": {
    "collapsed": false
   },
   "outputs": [
    {
     "name": "stdout",
     "output_type": "stream",
     "text": [
      "0\n",
      "['growing', 'increased', 'reduced', 'Rose', 'declining', 'increase', 'grown', 'grew', 'compared', 'decline'] \n",
      "\n",
      "1\n",
      "['vary', 'linked', 'varying', 'refers', 'involving', 'involved', 'include', 'proceeds', 'risk', 'necessitated', 'entails', 'included', 'implicated', 'occurred', 'relate', 'envisages', 'involves', 'leads', 'relates', 'relating', 'varies', 'caused', 'involve', 'differ', 'varied', 'related', 'occur', 'avoided', 'includes', 'arise'] \n",
      "\n",
      "2\n",
      "['failing', 'wanted', 'seeking', 'requiring', 'compelled', 'threatening', 'voted', 'motivated', 'forced', 'intend', 'decided', 'want', 'instructed', 'threatened', 'prefer', 'proposing', 'need', 'plans', 'destined', 'promised', 'pledged', 'Seeking', 'ordered', 'planning', 'allowed', 'contemplating', 'planned', 'pressured', 'chose', 'scheduled', 'tended', 'intending', 'expected', 'prepared', 'wanting', 'wishing', 'wished', 'intended', 'expecting', 'required', 'Want', 'advised', 'refusing', 'Refusing', 'invited', 'meant', 'tend', 'persuaded', 'needed', 'expect', 'needing', 'going', 'urged', 'agreed', 'encouraged', 'permitted', 'deciding', 'refuse', 'Intending', 'requested', 'preferring', 'tempted', 'preparing', 'wishes', 'opted', 'looking', 'refused', 'pressed', 'bound', 'pressing', 'asked', 'demanded'] \n",
      "\n",
      "3\n",
      "['remained', 'stayed', 'staying', 'remains', 'keeps', 'remain', 'kept', 'keep'] \n",
      "\n",
      "4\n",
      "['bothered', 'purport', 'hate', 'hesitate', 'like', 'matter', 'cry', 'unsporting', 'suffice', 'mean', 'wee', 'mind', 'afford', 'forgot', 'deserved', 'excuse', 'dare', 'beg', 'forget', 'mortified', 'Fancy', 'dared', 'deigned', 'bother', 'presume', 'pretended', 'bothering', 'mention', 'aspire', 'regret', 'wish', 'let', 'flattered', 'Dare', 'deserve', 'condescended'] \n",
      "\n",
      "5\n",
      "['writes', 'shown', 'purporting', 'according', 'admitted', 'believed', 'predicted', 'indicated', 'found', 'alleged', 'noted', 'claim', 'purported', 'suggest', 'appeared', 'claims', 'acknowledged', 'claiming', 'added', 'wrote', 'estimated', 'suggested', 'questioned', 'presumed', 'reported', 'said', 'told', 'revealing', 'suggesting', 'observed', 'claimed', 'suggests'] \n",
      "\n",
      "6\n",
      "['practise', 'held', 'proved', 'intreating', 'called', 'introduced', 'created', 'paid', 'standardised', 'organised', 'proposed', 'posed', 'deemed', \"forgettin'\", 'launched', 'co-ordinate', 'resolved', \"tryin'\", 'known', 'under-equipped', 'Quilp', 'coined', 're-imported', 'provided', 'directed', 'chosen', 'mandated', 'recognized', 'meeting', 'instituted', 'endeavours', 'established', \"kep'\", 'considered', 'dismissed', 'made', 'raised', 'challenged', 'preferred', 'allotted', 'adopted', 'assigned', 'united', 'retained', 'entitled', 'received', 'regard', 'appointed', 'envisaged', 'decreed', 'awarded', 'analysed', 'adjudged', 'demonstrated', 'perceived', 'granted', 'proclaimed', 'commissioned', 'given', 'billed', 'reconvened', 'omitted', 'Chuzzlewit', 'Dorrit', 'sentenced', 'engaged', 'offered', 'Appointed', \"goin'\", 'distinguished', 'qualified', 'proven', 'mobilised', 'collected', 'Pictured', 'rumoured', 'determined', 'endeavouring', 'formed', 'condemned', 'practised', 'accorded', 'endeavour', 'endeavoured', 'served', 'elected', 'guaranteed', 'selected', 'named'] \n",
      "\n",
      "7\n",
      "['plotted', 'reinforced', 'tested', 'timed', 'employed', 'tailored', 'studied', 'evaluated', 'modified', 'simulated', 'refined', 'adhered', 'calculated', 'equipped', 'monitored', 'disposed', 'discounted', 'subjected', 'imported', 'built', 'designed', 'accessed', 'Designed', 'installed', 'constructed', 'occupied', 'fitted', 'discarded', 'covered', 'enlarged', 'placed', 'adjusted', 'trained', 'sold', 'implemented', 'staffed', 'graded', 'altered', 'located', 'experimented', 'upgraded', 'produced', 'suited', 'adorned', 'developed', 'exploited', 'geared', 'infused', 'governed', 'confined', 'licensed', 'controlled', 'fostered', 'documented', 'grouped', 'generated', 'targeted', 'zoned', 'enabled', 'stimulated', 'judged', 'attached', 'fattened', 'bred', 'adapted', 'performed', 'centrifuged', 'enclosed', 'packaged', 'lit', 'overloaded', 'transformed', 'deployed', 'devised', 'used', 'explored', 'matched', 'classified', 'arranged', 'worn', 'harnessed'] \n",
      "\n",
      "8\n",
      "['ceases', 'cease', 'ceased', 'ceasing', 'CEASING'] \n",
      "\n",
      "9\n",
      "['rush', 'hurrying', 'striding', 'paused', 'hurried', 'waiting', 'busy', 'scrambled', 'rushed', 'Stampede', 'Waiting', 'hurry'] \n",
      "\n",
      "10\n",
      "['enjoy', 'miss', 'attend', 'watched', 'sleep', 'watch', 'live', 'sit'] \n",
      "\n",
      "11\n",
      "['avoids', 'resolves', 'decides', 'refuses', 'makes', 'desires', 'rearranges', 'helps', 'proposes', 'manages', 'purports', 'wants', 'goes', 'uses', 'works', 'determines', 'pretends', 'strives', 'serves', 'asks', 'continues', 'learns', 'seeks', 'lets', 'intends', 'transforms', 'undertakes', 'chooses', 'survives', 'tends', 'fails', 'knows', 'brings', 'recommends', 'considers', 'exists', 'aspires', 'prefers', 'likes', 'takes', 'needs', 'enjoys', 'allows', 'comes', 'finds', 'happens', 'understands'] \n",
      "\n",
      "12\n",
      "['relegated', 'consigned', 'ran', 'dispatched', 'overheard', 'wore', 'fought', 'arrived', 'diagnosed', 'left', 'changed', 'intervened', 'carried', 'saved', 'broken', 'removed', 'returned', 'sat', 'proceeded', 'blown', 'happened', 'cleared', 'gathered', 'stood', 'equalized', 'deflated', 'squeezed', 'took', 'sunk', 'phoned', 'gone', 'came', 'looked', 'worked', 'flocked', 'visited', 'toured', 'led', 'taken', 'attacked', 'restored', 'spent', 'rounded', 'passed', 'revived', 'caught', 'crushed', 'died', 'raced', 'alerted', 'outnumbered', 'burnt', 'stopped', 'demolished', 'got', 'sent', 'reappeared', 'awoke', 'chanced', 'saw', 'turned', 'moved', 'went', 'brought', 'checked', 'approached', 'lost', 'transferred', 'battled'] \n",
      "\n",
      "13\n",
      "['states', 'accelerated', 'amount', 'titles', 'survey', 'begins', 'started', 'ties', 'began', 'last', 'progressed', 'measures', 'aimed', 'quarrying', 'process', 'place', 'costs', 'report', 'Research', 'pause', 'starts', 'beginning', 'plan', 'points', 'prefilter', 'continue', 'tapered', 'Begin', 'begin', 'start', 'fundraising', 'damage', 'commenced', 'widening', 'permits', 'starting', 'hastened', 'note', 'finish', 'revised', 'aid', 'long', 'Continue', 'waters', 'resumed', 'projected', 'begun', 'fall', 'continued', 'Aid', 'building', 'price', 'broadened', 'record', 'open', 'continuing', 'bids', 'forecast', 'compounds', 'resorts', 'disrupted', 'set', 'combined', 'time', 'commence', 'end', 'lead', 'extended'] \n",
      "\n",
      "14\n",
      "['arranging', 'riding', 'scanning', 'merging', 'teaching', 'dying', 'getting', 'returning', 'managing', 'addicted', 'awakening', 'pretending', 'tending', 'checking', 'improving', 'forgetting', 'applying', 'leaving', 'letting', 'paying', 'appearing', 'responding', 'moving', 'buying', 'avoiding', 'learning', 'skipping', 'running', 'burning', 'volunteer', 'Letting', 'volunteering', 'coming', 'remembering', 'dressing', 'working', 'writing', 'repeating', 'stopping'] \n",
      "\n",
      "15\n",
      "['appears', 'dreaded', 'gimmicks', 'means', 'bait', 'convoluted', 'forbearing', 'seems', 'seemed', 'barbel', 'dread', 'bent', 'reappears', 'whispers', 'seeming', 'longing', 'returns', 'dull', 'acts', 'minded', 'WOAD', 'contrive', 'proves', 'turns', 'contrives', 'daring', 'promises', 'leaves', 'moves', 'blows', 'implies', 'seem', 'reverses', 'reassuring'] \n",
      "\n",
      "16\n",
      "['recalled', 'taught', 'forgotten', 'scar', 'recalls', 'appreciate', 'longed', 'liked', 'intrigued', 'disliked', 'thought', 'heard', 'believe', 'remember', 'laughed', 'seen', 'learned', 'imagine', 'fancied', 'feared', 'hated', 'regretted', 'recall', 'feel', 'love', 'say', 'recollect', 'Remember', 'know', 'felt', 'knew', 'enjoyed', 'remembered', 'Imagine', 'loving', 'experience', 'loved', 'reckoned', 'understood'] \n",
      "\n",
      "17\n",
      "['Struggling', 'try', 'struggling', 'attempting', 'struggled', 'hopes', 'hoped', 'sought', 'AIMING', 'attempted', 'hoping', 'conspired', 'helped', 'Hoping', 'endeavored', 'striven', 'attempt', 'strive', 'failed', 'tries', 'tried', 'Aim', 'managed', 'aiming', 'attempts', 'trying', 'aim', 'hope', 'striving', 'aims', 'struggle', 'helping', 'strove', 'Try'] \n",
      "\n",
      "18\n",
      "['talk', 'offer', 'opt', 'pluck', 'Apply', 'get', 'write', 'meet', 'undergo', 'consider', 'manage', 'raise', 'Touch', 'appear', 'take', 'create', 'TALK', 'obtain', 'handle', 'Moor', 'lay', 'save', 'give', 'massage', 'leave', 'perform', 'stimulate', 'reinforce', 'stand', 'conform', 'push', 'run', 'Act', 'touch', 'spare', 'tackle', 'operate', 'care', 'access', 'combine', 'cut', 'prove', 'respond', 'undertake', 'help', 'work', 'hold', 'turn', 'pay', 'seek', 'behave', 'receive', 'require', 'Trust', 'propose', 'bear', 'recommend', 'return', 'go', 'escape', 'come', 'choose', 'evaporate', 'determine', 'use', 'qualify', 'link', 'happen', 'produce', 'summon', 'put', 'omit', 'exist', 'find', 'fit', 'proceed', 'Guide', 'provide', 'drive', 'fail', 'become', 'make', 'iron', 'apply', 'change', 'see', 'learn', 'develop', 'look', 'add', 'file', 'trust', 'agree', 'contribute', 'decide', 'serve', 'allow'] \n",
      "\n",
      "19\n",
      "['restrict', 'quit', 'forbidden', 'stop', 'avoid', 'prohibit', 'justify', 'comply', 'Stop', 'destroy', 'reduce', 'prevent', 'Consent', 'remedy', 'resist', 'postpone', 'notice', 'obey', 'resolve', 'deny', 'warrant', 'justified'] \n",
      "\n"
     ]
    }
   ],
   "source": [
    "res = find_word_clusters(matrix_labels,matrix_pred20)\n",
    "for r in res:\n",
    "    print(r)\n",
    "    print(res[r],'\\n')"
   ]
  },
  {
   "cell_type": "code",
   "execution_count": 117,
   "metadata": {
    "collapsed": false,
    "scrolled": false
   },
   "outputs": [
    {
     "name": "stdout",
     "output_type": "stream",
     "text": [
      "0\n",
      "['breathe', 'browse', 'eat', 'pluck', 'tease', 'overgrow', 'snuggle', 'pulsate', 'emit', 'billow', 'whisper', 'weep', 'cry', 'bite', 'curl', 'lie', 'overgraze', 'bitch', 'gape', 'meditate', 'knead', 'wiggle', 'hang', 'pause', 'drink', 'bark', 'smile', 'flatter', 'shamble', 'gaze', 'fidget', 'chirp', 'dangle', 'die', 'smoke', 'pant', 'cook', 'drift', 'chew', 'swirl', 'stare', 'hurl', 'swerve', 'encircle', 'grin', 'bend', 'starve', 'relax', 'shrug', 'snigger', 'crawl', 'sing', 'tremble', 'explode', 'walk', 'skin', 'twitch', 'fade', 'soak', 'calve', 'peel', 'sleep', 'undress', 'swell', 'scream', 'detach', 'rummage', 'suck', 'creep', 'swallow', 'kiss', 'purr', 'suckle', 'bleed', 'roam', 'trundle', 'dress', 'wear', 'burn', 'shout', 'dim', 'defile', 'sunbathe', 'sit', 'sulk', 'wan', 'inhale'] \n",
      "\n",
      "1\n",
      "['profess', 'talk', 'admire', 'urge', 'implore', 'guess', 'consider', 'want', 'hate', 'appreciate', 'disappoint', 'complain', 'blame', 'refrain', 'like', 'prefer', 'enjoy', 'ask', 'swear', 'shew', 'miss', 'congratulate', 'read', 'insist', 'tell', 'pray', 'invite', 'criticize', 'believe', 'remember', 'wait', 'worry', 'wonder', 'mean', 'doubt', 'remind', 'praise', 'sacrifice', 'suggest', 'think', 'crave', 'hear', 'imagine', 'begrudge', 'do', 'acknowledge', 'quarrel', 'strive', 'excuse', 'feel', 'realize', 'proclaim', 'perceive', 'beg', 'love', 'say', 'forget', 'recommend', 'await', 'admit', 'know', 'choose', 'condone', 'expect', 'rely', 'owe', 'beware', 'disagree', 'contend', 'unstinting', 'warn', 'reckon', 'resent', 'argue', 'assure', 'oppose', 'astound', 'refuse', 'foresee', 'disapprove', 'ignore', 'preach', 'despise', 'watch', 'listen', 'thank', 'seem', 'mention', 'fail', 'deny', 'fear', 'regret', 'see', 'look', 'contemplate', 'wish', 'please', 'agree', 'let', 'endure', 'decide', 'overlook', 'undeserving'] \n",
      "\n",
      "2\n",
      "['favour', 'staff', 'result', 'practise', 'sponsor', 'award', 'offer', 'review', 'visit', 'vet', 'function', 'accord', 'reward', 'her', 'transplant', 'copy', 'near', 'sum', 're-sign', 'chair', 'answer', 'assist', 'nacab', 'challenge', 'murder', \"forgettin'\", 'interview', 'act', 'range', 'judge', 'power', 'lodge', 'appear', 'survey', 'farm', 'co-operate', 'test', 'value', 'institute', 'beneficially', 'concern', 'lysine', 'adequately', 'trade', 'bus', 'question', 'outcross', 'crop', 'market', 'number', 'matter', ';', 'last', 'railcoach', 'major', 'alternate', 'need', 'yield', 'mistrust', 'gross', 'land', 'place', 'separate', 'limit', 'minimise', 'school', 'estimate', 'licence', 'report', 'count', 'study', 'claim', 'close', 'barrack', 'sign', 'display', 'share', 'risk', 'tender', 'charge', \"'ave\", 'store', 'mind', 'state', 'reference', 'comfort', 'associate', 'tour', 'escort', 'treasure', 'be', 'care', 'subtly', 'interest', 'exercise', 'fundamentally', 'house', 'advocate', 'diet', 'attempt', 'request', 'plan', 'train', 'over-provide', 'sketch', 'order', 'machine', 'focus', 'guarantee', 're-assessing', 'force', 'encourage/reinforce', 'increase', 'work', 'appeal', 'promise', 'substitute', 'release', 'lecture', 'account', 'stock', 'age', 'step', 'legering', 'police', 'resort', 'suspect', 'bridge', 'free', 'flow', 'deal', 'budget', 'transfer', 'fulfil', 'benefit', 'note', 'sound', 'sort', 'quote', 'obscure', 'import', 'abuse', 'regard', 'aid', 'long', 'stress', 'call', 'criticise', 'show', 'suit', 'bear', 'grade', 'control', 'piece', 'part', 'name', 'support', 'breed', 'approach', 'barlaston', '’', 'discipline', 'light', 'contact', 'ferry', 'board', 'press', 'fee', 'link', 'influence', 'experiment', 'specialise', '.', 'notice', 'service', 'shop', 'direct', 'galvanise', 'master', 'object', 'subsidise', 'conflict', 'cost', 'view', 'draft', 'progress', 'lasing', 'price', 'travel', 'requite', 'date', 'balance', 'clear', 'rule', 'record', 'telephone', 'recognise', 'supply', 'exchange', 'modernise', 'open', 'worship', 'gain', 'deposit', 'aim', 'ensure', 'present', 'organise', 'entirely', 'sample', '‘', 'favourably', 'wastepaper', 'capitalise', 'base', 'signal', 'target', 'emphasise', 'list', 'complete', 'live', 'delegate', 'foxhunt', 'change', 'properly', 'advance', 're-enter', 'materialise', 'experience', 'very', 'trust', 'update', 'set', 'utilise', 'breach', \"again'\", 'reserve', 'appropriate', 'queue', 'demand', 'co-opt', 'figure', ',', 'lower', 'broadcast', 'permit', 'track', 'check', 'jeopardise', 'flood', 'publicise', 'form', 'campaign', 'issue', 'end', 'reason', 'reform', 'project', 'decline', 'search', 'have', 'realise', 'quarry', 'milk', 'either'] \n",
      "\n",
      "3\n",
      "['mystify', 'thrive', 'coincide', 'imbue', 'circulate', 'sway', 'denote', 'capitalize', 'boost', 'enable', 'rejuvenate', 'incite', 'mislead', 'rediscover', 'induce', 'repress', 'forge', 'emulate', 'commemorate', 'create', 'encourage', 'celebrate', 'reorient', 'unify', 'translate', 'facilitate', 'accelerate', 'attract', 'blend', 'emphasize', 'reflect', 'incorporate', 'stimulate', 'instil', 'reinforce', 'vitalize', 'improve', 'nurture', 'impress', 'promote', 'combine', 'brighten', 'bring', 'penetrate', 'civilize', 'evoke', 'express', 'strengthen', 'resonate', 'accentuate', 'revitalize', 'represent', 'conceive', 'invent', 'provoke', 'seduce', 'foster', 'trivialize', 'uplift', 'embody', 'popularize', 'recast', 'elicit', 'duplicate', 'capture', 'divide', 'emerge', 'prosper', 'achieve', 'elevate', 'transmute', 'encapsulate', 'inspire', 'proselytize', 'engender', 'reinvigorate', 'exploit', 'entertain', 'humiliate', 'highlight', 'generate', 'enhance'] \n",
      "\n",
      "4\n",
      "['recoup', 'invest', 'distribute', 'absorb', 'raise', 'employ', 'squander', 'build', 'allocate', 'upgrade', 'lend', 'cover', 'obtain', 'migrate', 'handle', 'rebuild', 'enclose', 'reside', 'mechanise', 'refund', 'recruit', 'collect', 'enlarge', 'earn', 'sustain', 'reimburse', 'retrain', 'convert', 'restructure', 'cater', 'manufacture', 'operate', 'accumulate', 'expand', 'grant', 'secure', 'fill', 'help', 'pay', 'purchase', 'borrow', 'occupy', 'erect', 'receive', 'devote', 'replenish', 'replace', 'fund', 'acquire', 'subsidize', 'accommodate', 'use', 'reach', 'repair', 'consolidate', 'produce', 'fetch', 'restock', 'advertise', 'grow', 'arrange', 'fatten', 'maintain', 'provide', 'defray', 'construct', 'repatriate', 'make', 'disgorge', 'develop', 'add', 'retain', 'widen', 'unload', 'contribute', 'sell', 'buy', 'tap', 'compete', 'repay', 'spend', 'hire'] \n",
      "\n",
      "5\n",
      "['dispense', 'confront', 'opt', 'settle', 'join', 'quit', 'scrap', 'write', 'abolish', 'meet', 'undergo', 'submit', 'take', 'shut', 'pursue', 'enlist', 'extend', 'outlaw', 'discard', 'attend', 'initiate', 'give', 'govern', 'rethink', 'leave', 'comply', 'perform', 'conform', 'reclassify', 'accompany', 'enforce', 'budge', 'appoint', 'cancel', 'declare', 'terminate', 'undertake', 'invade', 'adhere', 'continue', 'fulfill', 'begin', 'override', 'impose', 'hold', 'seek', 'punish', 'retire', 'usurp', 'remain', 'arrive', 'introduce', 'propose', 'compel', 'conduct', 'commit', 'return', 'go', 'depart', 'succeed', 'carry', 'skip', 'postpone', 'engage', 'indulge', 'kill', 'obey', 'flee', 'adopt', 'stay', 'forsake', 'summon', 'marry', 'omit', 'intervene', 'proceed', 'renew', 'rewrite', 'enter', 'resume', 'dismantle', 'implement', 'expel', 'dismiss', 'approve', 'forgo', 'withhold', 'embark', 'conclude', 'send', 'become', 'eject', 'accept', 'publish', 'delay', 'nationalize', 'apply', 'negotiate', 'participate', 'defer', 'modify', 'abandon', 'resign', 'commence', 'concentrate', 'follow', 'seize', 'serve', 'allow'] \n",
      "\n",
      "6\n",
      "['guide', 'predict', 'advise', 'inquire', 'describe', 'adapt', 'examine', 'manage', 'acquaint', 'detect', 'refer', 'quantify', 'identify', 'react', 'educate', 'gauge', 'assign', 'compare', 'retell', 'delineate', 'discover', 'explore', 'inspect', 'communicate', 'address', 'coordinate', 'reconstruct', 'confirm', 'scrutinize', 'illustrate', 'monitor', 'interrogate', 'connect', 'treat', 'prove', 'teach', 'demonstrate', 'devise', 'relate', 'respond', 'explain', 'recognize', 'understand', 'evaluate', 'prepare', 'formulate', 'diagnose', 'regulate', 'compile', 'determine', 'establish', 'classify', 'clarify', 'calculate', 'investigate', 'discuss', 'distinguish', 'interpret', 'uncover', 'gather', 'find', 'assess', 'certify', 'reveal', 'observe', 'scan', 'select', 'navigate', 'locate', 'trace', 'learn', 'correspond', 'tailor', 'consult', 'grapple', 'summarize', 'grasp', 'assert', 'speak', 'disseminate', 'define'] \n",
      "\n",
      "7\n",
      "['extract', 'extinguish', 'remove', 'reconcile', 'stop', 'eradicate', 'lessen', 'placate', 'soothe', 'avoid', 'save', 'alleviate', 'suppress', 'wean', 'justify', 'repopulate', 'steer', 'straighten', 'combat', 'exert', 'eliminate', 'forestall', 'wrest', 'erase', 'protect', 'tackle', 'overcome', 'cope', 'counteract', 'blackmail', 'pacify', 'reduce', 'prevent', 'calm', 'regroup', 'expunge', 'disperse', 'reverse', 'prolong', 'heal', 'compensate', 'preserve', 'restore', 'conserve', 'escape', 'resist', 'subdue', 'exonerate', 'curb', 'persuade', 'appease', 'safeguard', 'defuse', 'keep', 'resolve', 'fix', 'rid', 'mediate', 'convince', 'cure', 'contain', 'counter', 'restrain', 'ameliorate', 'mitigate', 'quell', 'relieve', 'survive', 'banish', 'stem', 'recover', 'ease', 'recapture', 'shield', 'reassure', 'solve', 'hide', 'offset', 'soften', 'satisfy'] \n",
      "\n",
      "8\n",
      "['vary', 'consist', 'hurt', 'originate', 'ruin', 'exaggerate', 'shrink', 'impair', 'overcrowd', 'depend', 'deprive', 'overshadow', 'diverge', 'affect', 'include', 'materialize', 'persist', 'soar', 'disturb', 'suffer', 'interfere', 'diminish', 'hinder', 'undermine', 'shorten', 'exceed', 'constitute', 'dwindle', 'overwhelm', 'alter', 'outstrip', 'require', 'disrupt', 'dent', 'weaken', 'discourage', 'impede', 'decrease', 'precipitate', 'preclude', 'afflict', 'exacerbate', 'devalue', 'happen', 'frustrate', 'encompass', 'trample', 'deter', 'erode', 'exist', 'cause', 'involve', 'threaten', 'disappear', 'imply', 'adversely', 'deteriorate', 'occur', 'dominate', 'lose', 'dilute', 'inhibit', 'undervalue', 'conspire', 'indicate', 'exclude', 'arise'] \n",
      "\n",
      "9\n",
      "['gallop', 'stab', 'rescue', 'delight', 'steep', 'throw', 'relay', 'get', 'hook', 'catch', 'grind', 'drag', 'pinch', 'steal', 'try', 'feed', 'scar', 'bleach', 'rush', 'empty', 'toss', 'spread', 'bait', 'wake', 'play', 'hunt', 'seed', 'desert', 'bump', 'encounter', 'pick', 'cross', 'break', 'shift', 'assault', 'sweep', 'lay', 'wad', 'split', 'star', 'tone', 'float', 'tip', 'stretch', 'tie', 'grab', 'wet', 'hit', 'switch', 'whale', 'roll', 'mount', 'stand', 'push', 'run', 'touch', 'thud', 'dry', 'spare', 'pull', 'fight', 'race', 'lift', 'skid', 'cut', 'back', 'smack', 'thrust', 'carp', 'attack', 'tilt', 'scoop', 'sight', 'badger', 'drop', 'hand', 'crossbreed', 'snare', 'heap', 'pack', 'glance', 'shed', 'rear', 'score', 'brush', 'start', 'pop', 'damage', 'turn', 'double', 'shake', 'hike', 'nick', 'weed', 'gamble', 'upset', 'lock', 'spin', 'finish', 'win', 'rise', 'leap', 'guard', 'buzz', 'ski', 'bat', 'raid', 'swap', 'pin', 'clean', 'mark', 'cheer', 'move', 'fall', 'square', 'rest', 'top', 'point', 'come', 'glue', 'buffer', 'heat', 'drain', 'mix', 'flame', 'pump', 'fly', 'battle', 'paint', 'pass', 'draw', 'ride', 'nip', 'whip', 'surprise', 'spot', 'slow', 'beat', 'puzzle', 'cascade', 'put', 'curve', 'pulp', 'steel', 'net', 'plague', 'dust', 'strike', 'circle', 'bang', 'block', 'fit', 'cast', 'plunge', 'spell', 'row', 'foul', 'blow', 'fiendish', 'slip', 'hurry', 'knock', 'climb', 'cradle', 'seal', 'sail', 'drive', 'claw', 'mirror', 'ring', 'defeat', 'face', 'root', 'iron', 'trap', 'fire', 'sink', 'crowd', 'perk', 'jump', 'match', 'rain', 'squeeze', 'fish', 'kick', 'thin', 'shoot', 'struggle', 'repeat', 'groom', 'tear', 'cribbage', 'stick', 'stride', 'tunnel', 'dance', 'shape', 'slide', 'pall', 'dig', 'lead', 'speed', 'march', 'stray'] \n",
      "\n"
     ]
    }
   ],
   "source": [
    "res = find_word_clusters(embedded_labels,embedded_pred10)\n",
    "for r in res:\n",
    "    print(r)\n",
    "    print(res[r],'\\n')"
   ]
  }
 ],
 "metadata": {
  "anaconda-cloud": {},
  "kernelspec": {
   "display_name": "Python [default]",
   "language": "python",
   "name": "python3"
  },
  "language_info": {
   "codemirror_mode": {
    "name": "ipython",
    "version": 3
   },
   "file_extension": ".py",
   "mimetype": "text/x-python",
   "name": "python",
   "nbconvert_exporter": "python",
   "pygments_lexer": "ipython3",
   "version": "3.5.2"
  }
 },
 "nbformat": 4,
 "nbformat_minor": 1
}
